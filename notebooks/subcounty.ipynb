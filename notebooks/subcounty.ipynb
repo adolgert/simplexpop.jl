{
 "cells": [
  {
   "cell_type": "markdown",
   "metadata": {},
   "source": [
    "# Produce an HRSL-based Dataset with Uganda Populations\n",
    "\n",
    "The incoming data are\n",
    "\n",
    "* HRSL - the high-resolution settlement layer. This knows rooftops. It's on a 30m grid.\n",
    "  It gets house locations right, but the people per house comes from unknown administrative\n",
    "  data from Uganda, so we throw that out.\n",
    "\n",
    "* LandScan - Populations on a 1000m grid. This does better in the cities, but the data\n",
    "  comes from geospatial statistics, so it may predict people where there are no people.\n",
    "  \n",
    "* UBOS - This has district-level totals, but it's surprisingly hard to get subcounty-level\n",
    "  totals because subcounty administrative borders change fast.\n",
    "  \n",
    "So the plan is to get a dataset that has the following properties.\n",
    "\n",
    "1. There is a value at each residence specified by the HRSL.\n",
    "\n",
    "2. The total people per district matches UBOS predictions.\n",
    "\n",
    "3. The weight on each house comes from LandScan."
   ]
  },
  {
   "cell_type": "code",
   "execution_count": 8,
   "metadata": {},
   "outputs": [
    {
     "name": "stderr",
     "output_type": "stream",
     "text": [
      "GLib-GIO-Message: 08:04:51.806: Using the 'memory' GSettings backend.  Your settings will not be saved or shared with other applications.\n"
     ]
    }
   ],
   "source": [
    "using ArchGDAL\n",
    "using BenchmarkTools\n",
    "using Colors\n",
    "using GDAL\n",
    "using ImageView\n",
    "using Images\n",
    "using ImageMagick\n",
    "using Plots"
   ]
  },
  {
   "cell_type": "markdown",
   "metadata": {},
   "source": [
    "## Load Data"
   ]
  },
  {
   "cell_type": "code",
   "execution_count": 9,
   "metadata": {},
   "outputs": [],
   "source": [
    "base_path = \"~/data\"\n",
    "paths = Dict{Symbol, Any}(\n",
    "    :subcounty => joinpath(\n",
    "       base_path, \"projects\", \"uganda2020\", \"outputs\",\n",
    "       \"uganda_subcounties_2019_topology_fix\", \"uganda_subcounties_2019_topology_fix.shp\"),\n",
    "    :hrsl => joinpath(base_path, \"inputs\", \"HRSL\", \"uganda2018\", \"hrsl_uga_settlement.tif\"),\n",
    "    :landscan => joinpath(base_path, \"inputs\", \"landscan\", \"LandScan Global 2018\", \"lspop2018\", \"w001001.adf\")\n",
    "    )\n",
    "for (path_kind, path_loc) in paths\n",
    "    paths[path_kind] = expanduser(path_loc)\n",
    "    @assert isfile(paths[path_kind])\n",
    "end"
   ]
  },
  {
   "cell_type": "code",
   "execution_count": 10,
   "metadata": {},
   "outputs": [
    {
     "data": {
      "text/plain": [
       "GDAL Dataset (Driver: ESRI Shapefile/ESRI Shapefile)\n",
       "File(s): \n",
       "  /home/adolgert/data/projects/uganda2020/outputs/uganda_subcounties_2019_topology_fix/uganda_subcounties_2019_topology_fix.shp\n",
       "  /home/adolgert/data/projects/uganda2020/outputs/uganda_subcounties_2019_topology_fix/uganda_subcounties_2019_topology_fix.shx\n",
       "  /home/adolgert/data/projects/uganda2020/outputs/uganda_subcounties_2019_topology_fix/uganda_subcounties_2019_topology_fix.dbf\n",
       "  /home/adolgert/data/projects/uganda2020/outputs/uganda_subcounties_2019_topology_fix/uganda_subcounties_2019_topology_fix.prj\n",
       "\n",
       "Number of feature layers: 1\n",
       "  Layer 0: uganda_subcounties_2019_topology_fix (wkbPolygon)\n"
      ]
     },
     "execution_count": 10,
     "metadata": {},
     "output_type": "execute_result"
    }
   ],
   "source": [
    "subcounty = ArchGDAL.read(paths[:subcounty])"
   ]
  },
  {
   "cell_type": "code",
   "execution_count": 11,
   "metadata": {},
   "outputs": [
    {
     "name": "stdout",
     "output_type": "stream",
     "text": [
      "Feature\n",
      "  (index 0) geom => POLYGON\n",
      "  (index 0) OBJECTID => 473\n",
      "  (index 1) District => KOBOKO\n",
      "  (index 2) Dcode => 319\n",
      "  (index 3) County => KOBOKO\n",
      "  (index 4) CCode => 3191\n",
      "  (index 5) Subcounty => LUDARA\n",
      "  (index 6) Poverty => 25.8\n",
      "  (index 7) ChPoverty => 27.2\n",
      "  (index 8) regions => Northern\n",
      "  (index 9) scode2019 => 319106\n",
      "...\n",
      " Number of Fields: 11"
     ]
    }
   ],
   "source": [
    "subcounty_layer = ArchGDAL.getlayer(subcounty, 0)\n",
    "ArchGDAL.getfeature(subcounty_layer, 0) do feature\n",
    "    print(feature)\n",
    "end"
   ]
  },
  {
   "cell_type": "code",
   "execution_count": 14,
   "metadata": {},
   "outputs": [
    {
     "name": "stdout",
     "output_type": "stream",
     "text": [
      "hrsl_ref = ArchGDAL.getproj(hrsl_ds) = \"GEOGCS[\\\"WGS 84\\\",DATUM[\\\"WGS_1984\\\",SPHEROID[\\\"WGS 84\\\",6378137,298.257223563,AUTHORITY[\\\"EPSG\\\",\\\"7030\\\"]],AUTHORITY[\\\"EPSG\\\",\\\"6326\\\"]],PRIMEM[\\\"Greenwich\\\",0],UNIT[\\\"degree\\\",0.0174532925199433,AUTHORITY[\\\"EPSG\\\",\\\"9122\\\"]],AXIS[\\\"Latitude\\\",NORTH],AXIS[\\\"Longitude\\\",EAST],AUTHORITY[\\\"EPSG\\\",\\\"4326\\\"]]\"\n",
      "hrsl_geotransform = ArchGDAL.getgeotransform(hrsl_ds) = [29.5734769457, 0.00027777777999999997, 0.0, 4.22813426181, 0.0, -0.00027777778]\n",
      "hrsl_band = ArchGDAL.getband(hrsl_ds, 1) = [GA_ReadOnly] Band 1 (Gray): 19536 x 20540 (Float64)\n",
      "    blocksize: 128×128, nodata: -1.797693e308, units: 1.0px + 0.0\n",
      "    overviews: (0) 9768x10270 (1) 4884x5135 (2) 2442x2568 \n",
      "               (3) 1221x1284 (4) 611x642 (5) 306x321 \n",
      "               (6) 153x161 \n",
      "hrsl_nodata = ArchGDAL.getnodatavalue(hrsl_band) = -1.797693e308\n",
      "hrsl_blocksize = ArchGDAL.blocksize(hrsl_band) = Int32[128, 128]\n"
     ]
    },
    {
     "data": {
      "text/plain": [
       "2-element Array{Int32,1}:\n",
       " 128\n",
       " 128"
      ]
     },
     "execution_count": 14,
     "metadata": {},
     "output_type": "execute_result"
    }
   ],
   "source": [
    "hrsl_ds = ArchGDAL.read(paths[:hrsl])\n",
    "@show hrsl_ref = ArchGDAL.getproj(hrsl_ds)\n",
    "@show hrsl_geotransform = ArchGDAL.getgeotransform(hrsl_ds)\n",
    "@show hrsl_band = ArchGDAL.getband(hrsl_ds, 1)\n",
    "@show hrsl_nodata = ArchGDAL.getnodatavalue(hrsl_band)\n",
    "@show hrsl_blocksize = ArchGDAL.blocksize(hrsl_band)\n",
    "# ArchGDAL.read(band)"
   ]
  },
  {
   "cell_type": "code",
   "execution_count": 44,
   "metadata": {},
   "outputs": [
    {
     "ename": "MethodError",
     "evalue": "MethodError: no method matching CartesianIndex(::Tuple{UnitRange{Int64},UnitRange{Int64}})\nClosest candidates are:\n  CartesianIndex(!Matched::Tuple{Vararg{Integer,N}}) where N at multidimensional.jl:68\n  CartesianIndex(!Matched::Integer...) at multidimensional.jl:69\n  CartesianIndex(!Matched::Union{Integer, CartesianIndex}...) at multidimensional.jl:76\n  ...",
     "output_type": "error",
     "traceback": [
      "MethodError: no method matching CartesianIndex(::Tuple{UnitRange{Int64},UnitRange{Int64}})\nClosest candidates are:\n  CartesianIndex(!Matched::Tuple{Vararg{Integer,N}}) where N at multidimensional.jl:68\n  CartesianIndex(!Matched::Integer...) at multidimensional.jl:69\n  CartesianIndex(!Matched::Union{Integer, CartesianIndex}...) at multidimensional.jl:76\n  ...",
      "",
      "Stacktrace:",
      " [1] top-level scope at In[44]:1"
     ]
    }
   ],
   "source": [
    "[CartesianIndex(ci[1] * 2, ci[2]*4) for ci in CartesianIndex((3:5, 4:5))]"
   ]
  },
  {
   "cell_type": "code",
   "execution_count": 15,
   "metadata": {},
   "outputs": [
    {
     "name": "stdout",
     "output_type": "stream",
     "text": [
      "landscan_ref = ArchGDAL.getproj(landscan_ds) = \"GEOGCS[\\\"WGS 84\\\",DATUM[\\\"WGS_1984\\\",SPHEROID[\\\"WGS 84\\\",6378137,298.257223563,AUTHORITY[\\\"EPSG\\\",\\\"7030\\\"]],AUTHORITY[\\\"EPSG\\\",\\\"6326\\\"]],PRIMEM[\\\"Greenwich\\\",0,AUTHORITY[\\\"EPSG\\\",\\\"8901\\\"]],UNIT[\\\"degree\\\",0.0174532925199433,AUTHORITY[\\\"EPSG\\\",\\\"9122\\\"]],AXIS[\\\"Latitude\\\",NORTH],AXIS[\\\"Longitude\\\",EAST],AUTHORITY[\\\"EPSG\\\",\\\"4326\\\"]]\"\n",
      "landscan_geotransform = ArchGDAL.getgeotransform(landscan_ds) = [-180.0, 0.0083333333333333, 0.0, 89.99999999999929, 0.0, -0.0083333333333333]\n",
      "band = [GA_ReadOnly] Band 1 (Undefined): 43200 x 21600 (Int32)\n",
      "    blocksize: 256×4, nodata: -2.147483647e9, units: 1.0px + 0.0\n",
      "    overviews: \n",
      "landscan_blocksize = ArchGDAL.blocksize(band) = Int32[256, 4]\n"
     ]
    },
    {
     "data": {
      "text/plain": [
       "2-element Array{Int32,1}:\n",
       " 256\n",
       "   4"
      ]
     },
     "execution_count": 15,
     "metadata": {},
     "output_type": "execute_result"
    }
   ],
   "source": [
    "landscan_ds = ArchGDAL.read(paths[:landscan])\n",
    "@show landscan_ref = ArchGDAL.getproj(landscan_ds)\n",
    "@show landscan_geotransform = ArchGDAL.getgeotransform(landscan_ds)\n",
    "band = ArchGDAL.getband(landscan_ds, 1)\n",
    "@show band\n",
    "landscan_nodata = ArchGDAL.getnodatavalue(band)\n",
    "@show landscan_blocksize = ArchGDAL.blocksize(band)\n",
    "# ArchGDAL.read(band)"
   ]
  },
  {
   "cell_type": "code",
   "execution_count": 19,
   "metadata": {},
   "outputs": [
    {
     "data": {
      "text/plain": [
       "(179.99999999999858, -90.0)"
      ]
     },
     "execution_count": 19,
     "metadata": {},
     "output_type": "execute_result"
    }
   ],
   "source": [
    "geo_to_xy(geo, i, j) = (geo[1] + i * geo[2] + j * geo[3], geo[4] + i * geo[5] + j * geo[6])\n",
    "geo_to_xy(landscan_geotransform, 43200, 21600)"
   ]
  },
  {
   "cell_type": "code",
   "execution_count": 31,
   "metadata": {},
   "outputs": [
    {
     "data": {
      "text/plain": [
       "1024"
      ]
     },
     "execution_count": 31,
     "metadata": {},
     "output_type": "execute_result"
    }
   ],
   "source": [
    "buffer = zeros(Int32, landscan_blocksize...)\n",
    "data = ArchGDAL.readblock!(band, 60, 3000, buffer)\n",
    "sum(data .!= landscan_nodata)"
   ]
  },
  {
   "cell_type": "code",
   "execution_count": 34,
   "metadata": {},
   "outputs": [
    {
     "data": {
      "text/plain": [
       "43200×21600 Array{Int32,2}:\n",
       " -2147483647  -2147483647  -2147483647  …  0  0  0  0  0  0  0  0  0  0  0  0\n",
       " -2147483647  -2147483647  -2147483647     0  0  0  0  0  0  0  0  0  0  0  0\n",
       " -2147483647  -2147483647  -2147483647     0  0  0  0  0  0  0  0  0  0  0  0\n",
       " -2147483647  -2147483647  -2147483647     0  0  0  0  0  0  0  0  0  0  0  0\n",
       " -2147483647  -2147483647  -2147483647     0  0  0  0  0  0  0  0  0  0  0  0\n",
       " -2147483647  -2147483647  -2147483647  …  0  0  0  0  0  0  0  0  0  0  0  0\n",
       " -2147483647  -2147483647  -2147483647     0  0  0  0  0  0  0  0  0  0  0  0\n",
       " -2147483647  -2147483647  -2147483647     0  0  0  0  0  0  0  0  0  0  0  0\n",
       " -2147483647  -2147483647  -2147483647     0  0  0  0  0  0  0  0  0  0  0  0\n",
       " -2147483647  -2147483647  -2147483647     0  0  0  0  0  0  0  0  0  0  0  0\n",
       " -2147483647  -2147483647  -2147483647  …  0  0  0  0  0  0  0  0  0  0  0  0\n",
       " -2147483647  -2147483647  -2147483647     0  0  0  0  0  0  0  0  0  0  0  0\n",
       " -2147483647  -2147483647  -2147483647     0  0  0  0  0  0  0  0  0  0  0  0\n",
       "           ⋮                            ⋱        ⋮              ⋮           \n",
       " -2147483647  -2147483647  -2147483647     0  0  0  0  0  0  0  0  0  0  0  0\n",
       " -2147483647  -2147483647  -2147483647     0  0  0  0  0  0  0  0  0  0  0  0\n",
       " -2147483647  -2147483647  -2147483647  …  0  0  0  0  0  0  0  0  0  0  0  0\n",
       " -2147483647  -2147483647  -2147483647     0  0  0  0  0  0  0  0  0  0  0  0\n",
       " -2147483647  -2147483647  -2147483647     0  0  0  0  0  0  0  0  0  0  0  0\n",
       " -2147483647  -2147483647  -2147483647     0  0  0  0  0  0  0  0  0  0  0  0\n",
       " -2147483647  -2147483647  -2147483647     0  0  0  0  0  0  0  0  0  0  0  0\n",
       " -2147483647  -2147483647  -2147483647  …  0  0  0  0  0  0  0  0  0  0  0  0\n",
       " -2147483647  -2147483647  -2147483647     0  0  0  0  0  0  0  0  0  0  0  0\n",
       " -2147483647  -2147483647  -2147483647     0  0  0  0  0  0  0  0  0  0  0  0\n",
       " -2147483647  -2147483647  -2147483647     0  0  0  0  0  0  0  0  0  0  0  0\n",
       " -2147483647  -2147483647  -2147483647     0  0  0  0  0  0  0  0  0  0  0  0"
      ]
     },
     "execution_count": 34,
     "metadata": {},
     "output_type": "execute_result"
    }
   ],
   "source": [
    "alldata = ArchGDAL.read(band);\n",
    "typeof(alldata)"
   ]
  },
  {
   "cell_type": "code",
   "execution_count": 35,
   "metadata": {},
   "outputs": [
    {
     "data": {
      "text/plain": [
       "6-element Array{Float64,1}:\n",
       " -180.0\n",
       "    0.0083333333333333\n",
       "    0.0\n",
       "   89.99999999999929\n",
       "    0.0\n",
       "   -0.0083333333333333"
      ]
     },
     "execution_count": 35,
     "metadata": {},
     "output_type": "execute_result"
    }
   ],
   "source": [
    "landscan_geotransform"
   ]
  },
  {
   "cell_type": "code",
   "execution_count": 47,
   "metadata": {},
   "outputs": [
    {
     "name": "stdout",
     "output_type": "stream",
     "text": [
      "A = [1 2 3; 4 5 6] = [1 2 3; 4 5 6]\n"
     ]
    },
    {
     "data": {
      "text/plain": [
       "2×3 Array{Int64,2}:\n",
       " 1  7   8\n",
       " 4  9  10"
      ]
     },
     "execution_count": 47,
     "metadata": {},
     "output_type": "execute_result"
    }
   ],
   "source": [
    "@show A = [1 2 3; 4 5 6]\n",
    "A[1:2, 2:3] = [7 8; 9 10]; A"
   ]
  },
  {
   "cell_type": "code",
   "execution_count": 9,
   "metadata": {},
   "outputs": [
    {
     "ename": "UndefVarError",
     "evalue": "UndefVarError: AG not defined",
     "output_type": "error",
     "traceback": [
      "UndefVarError: AG not defined",
      "",
      "Stacktrace:",
      " [1] top-level scope at In[9]:1"
     ]
    }
   ],
   "source": [
    "    raster = AG.unsafe_create(\n",
    "        \"band1.tif\",\n",
    "        AG.getdriver(\"GTiff\"),\n",
    "        width = ArchGDAL.width(dataset),\n",
    "        height = ArchGDAL.height(dataset),\n",
    "        nbands = 1,\n",
    "        dtype = UInt8\n",
    "    )\n",
    "    ## assign the projection and transformation parameters\n",
    "    AG.setgeotransform!(raster, geotransform)\n",
    "    AG.setproj!(raster, ref)\n",
    "    \n",
    "    ## write the raster    \n",
    "    AG.write!(\n",
    "        raster,\n",
    "        new1,  # image to \"burn\" into the raster\n",
    "        1,      # update band 1\n",
    "    )\n",
    "    AG.destroy(raster)"
   ]
  },
  {
   "cell_type": "code",
   "execution_count": 52,
   "metadata": {},
   "outputs": [
    {
     "name": "stdout",
     "output_type": "stream",
     "text": [
      "CartesianIndex(1, 1)\n",
      "CartesianIndex(2, 1)\n",
      "CartesianIndex(3, 1)\n",
      "CartesianIndex(1, 2)\n",
      "CartesianIndex(2, 2)\n",
      "CartesianIndex(3, 2)\n",
      "CartesianIndex(1, 3)\n",
      "CartesianIndex(2, 3)\n",
      "CartesianIndex(3, 3)\n",
      "CartesianIndex(1, 4)\n",
      "CartesianIndex(2, 4)\n",
      "CartesianIndex(3, 4)\n"
     ]
    }
   ],
   "source": [
    "for ci in CartesianIndices((3,4))\n",
    "  println(ci)\n",
    "end"
   ]
  },
  {
   "cell_type": "code",
   "execution_count": 55,
   "metadata": {},
   "outputs": [
    {
     "data": {
      "text/plain": [
       "3"
      ]
     },
     "execution_count": 55,
     "metadata": {},
     "output_type": "execute_result"
    }
   ],
   "source": [
    "A = zeros(3,5);\n",
    "axes(A)[1][end]"
   ]
  }
 ],
 "metadata": {
  "kernelspec": {
   "display_name": "Julia 1.4.0",
   "language": "julia",
   "name": "julia-1.4"
  },
  "language_info": {
   "file_extension": ".jl",
   "mimetype": "application/julia",
   "name": "julia",
   "version": "1.4.0"
  }
 },
 "nbformat": 4,
 "nbformat_minor": 4
}
